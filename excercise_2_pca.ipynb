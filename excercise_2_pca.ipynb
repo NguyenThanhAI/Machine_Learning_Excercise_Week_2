{
 "cells": [
  {
   "cell_type": "code",
   "execution_count": 1,
   "metadata": {},
   "outputs": [],
   "source": [
    "import math\n",
    "\n",
    "from itertools import combinations\n",
    "\n",
    "import numpy as np\n",
    "import matplotlib.pyplot as plt"
   ]
  },
  {
   "cell_type": "code",
   "execution_count": 2,
   "metadata": {},
   "outputs": [],
   "source": [
    "data_path = \"iris.data\""
   ]
  },
  {
   "cell_type": "markdown",
   "metadata": {},
   "source": [
    "Đọc dữ liệu"
   ]
  },
  {
   "cell_type": "code",
   "execution_count": 3,
   "metadata": {},
   "outputs": [],
   "source": [
    "x = np.genfromtxt(data_path, delimiter=\",\", usecols=(0, 1, 2, 3))"
   ]
  },
  {
   "cell_type": "code",
   "execution_count": 4,
   "metadata": {},
   "outputs": [
    {
     "data": {
      "text/plain": [
       "array([[5.1, 3.5, 1.4, 0.2],\n",
       "       [4.9, 3. , 1.4, 0.2],\n",
       "       [4.7, 3.2, 1.3, 0.2],\n",
       "       [4.6, 3.1, 1.5, 0.2],\n",
       "       [5. , 3.6, 1.4, 0.2],\n",
       "       [5.4, 3.9, 1.7, 0.4],\n",
       "       [4.6, 3.4, 1.4, 0.3],\n",
       "       [5. , 3.4, 1.5, 0.2],\n",
       "       [4.4, 2.9, 1.4, 0.2],\n",
       "       [4.9, 3.1, 1.5, 0.1],\n",
       "       [5.4, 3.7, 1.5, 0.2],\n",
       "       [4.8, 3.4, 1.6, 0.2],\n",
       "       [4.8, 3. , 1.4, 0.1],\n",
       "       [4.3, 3. , 1.1, 0.1],\n",
       "       [5.8, 4. , 1.2, 0.2],\n",
       "       [5.7, 4.4, 1.5, 0.4],\n",
       "       [5.4, 3.9, 1.3, 0.4],\n",
       "       [5.1, 3.5, 1.4, 0.3],\n",
       "       [5.7, 3.8, 1.7, 0.3],\n",
       "       [5.1, 3.8, 1.5, 0.3],\n",
       "       [5.4, 3.4, 1.7, 0.2],\n",
       "       [5.1, 3.7, 1.5, 0.4],\n",
       "       [4.6, 3.6, 1. , 0.2],\n",
       "       [5.1, 3.3, 1.7, 0.5],\n",
       "       [4.8, 3.4, 1.9, 0.2],\n",
       "       [5. , 3. , 1.6, 0.2],\n",
       "       [5. , 3.4, 1.6, 0.4],\n",
       "       [5.2, 3.5, 1.5, 0.2],\n",
       "       [5.2, 3.4, 1.4, 0.2],\n",
       "       [4.7, 3.2, 1.6, 0.2],\n",
       "       [4.8, 3.1, 1.6, 0.2],\n",
       "       [5.4, 3.4, 1.5, 0.4],\n",
       "       [5.2, 4.1, 1.5, 0.1],\n",
       "       [5.5, 4.2, 1.4, 0.2],\n",
       "       [4.9, 3.1, 1.5, 0.1],\n",
       "       [5. , 3.2, 1.2, 0.2],\n",
       "       [5.5, 3.5, 1.3, 0.2],\n",
       "       [4.9, 3.1, 1.5, 0.1],\n",
       "       [4.4, 3. , 1.3, 0.2],\n",
       "       [5.1, 3.4, 1.5, 0.2],\n",
       "       [5. , 3.5, 1.3, 0.3],\n",
       "       [4.5, 2.3, 1.3, 0.3],\n",
       "       [4.4, 3.2, 1.3, 0.2],\n",
       "       [5. , 3.5, 1.6, 0.6],\n",
       "       [5.1, 3.8, 1.9, 0.4],\n",
       "       [4.8, 3. , 1.4, 0.3],\n",
       "       [5.1, 3.8, 1.6, 0.2],\n",
       "       [4.6, 3.2, 1.4, 0.2],\n",
       "       [5.3, 3.7, 1.5, 0.2],\n",
       "       [5. , 3.3, 1.4, 0.2],\n",
       "       [7. , 3.2, 4.7, 1.4],\n",
       "       [6.4, 3.2, 4.5, 1.5],\n",
       "       [6.9, 3.1, 4.9, 1.5],\n",
       "       [5.5, 2.3, 4. , 1.3],\n",
       "       [6.5, 2.8, 4.6, 1.5],\n",
       "       [5.7, 2.8, 4.5, 1.3],\n",
       "       [6.3, 3.3, 4.7, 1.6],\n",
       "       [4.9, 2.4, 3.3, 1. ],\n",
       "       [6.6, 2.9, 4.6, 1.3],\n",
       "       [5.2, 2.7, 3.9, 1.4],\n",
       "       [5. , 2. , 3.5, 1. ],\n",
       "       [5.9, 3. , 4.2, 1.5],\n",
       "       [6. , 2.2, 4. , 1. ],\n",
       "       [6.1, 2.9, 4.7, 1.4],\n",
       "       [5.6, 2.9, 3.6, 1.3],\n",
       "       [6.7, 3.1, 4.4, 1.4],\n",
       "       [5.6, 3. , 4.5, 1.5],\n",
       "       [5.8, 2.7, 4.1, 1. ],\n",
       "       [6.2, 2.2, 4.5, 1.5],\n",
       "       [5.6, 2.5, 3.9, 1.1],\n",
       "       [5.9, 3.2, 4.8, 1.8],\n",
       "       [6.1, 2.8, 4. , 1.3],\n",
       "       [6.3, 2.5, 4.9, 1.5],\n",
       "       [6.1, 2.8, 4.7, 1.2],\n",
       "       [6.4, 2.9, 4.3, 1.3],\n",
       "       [6.6, 3. , 4.4, 1.4],\n",
       "       [6.8, 2.8, 4.8, 1.4],\n",
       "       [6.7, 3. , 5. , 1.7],\n",
       "       [6. , 2.9, 4.5, 1.5],\n",
       "       [5.7, 2.6, 3.5, 1. ],\n",
       "       [5.5, 2.4, 3.8, 1.1],\n",
       "       [5.5, 2.4, 3.7, 1. ],\n",
       "       [5.8, 2.7, 3.9, 1.2],\n",
       "       [6. , 2.7, 5.1, 1.6],\n",
       "       [5.4, 3. , 4.5, 1.5],\n",
       "       [6. , 3.4, 4.5, 1.6],\n",
       "       [6.7, 3.1, 4.7, 1.5],\n",
       "       [6.3, 2.3, 4.4, 1.3],\n",
       "       [5.6, 3. , 4.1, 1.3],\n",
       "       [5.5, 2.5, 4. , 1.3],\n",
       "       [5.5, 2.6, 4.4, 1.2],\n",
       "       [6.1, 3. , 4.6, 1.4],\n",
       "       [5.8, 2.6, 4. , 1.2],\n",
       "       [5. , 2.3, 3.3, 1. ],\n",
       "       [5.6, 2.7, 4.2, 1.3],\n",
       "       [5.7, 3. , 4.2, 1.2],\n",
       "       [5.7, 2.9, 4.2, 1.3],\n",
       "       [6.2, 2.9, 4.3, 1.3],\n",
       "       [5.1, 2.5, 3. , 1.1],\n",
       "       [5.7, 2.8, 4.1, 1.3],\n",
       "       [6.3, 3.3, 6. , 2.5],\n",
       "       [5.8, 2.7, 5.1, 1.9],\n",
       "       [7.1, 3. , 5.9, 2.1],\n",
       "       [6.3, 2.9, 5.6, 1.8],\n",
       "       [6.5, 3. , 5.8, 2.2],\n",
       "       [7.6, 3. , 6.6, 2.1],\n",
       "       [4.9, 2.5, 4.5, 1.7],\n",
       "       [7.3, 2.9, 6.3, 1.8],\n",
       "       [6.7, 2.5, 5.8, 1.8],\n",
       "       [7.2, 3.6, 6.1, 2.5],\n",
       "       [6.5, 3.2, 5.1, 2. ],\n",
       "       [6.4, 2.7, 5.3, 1.9],\n",
       "       [6.8, 3. , 5.5, 2.1],\n",
       "       [5.7, 2.5, 5. , 2. ],\n",
       "       [5.8, 2.8, 5.1, 2.4],\n",
       "       [6.4, 3.2, 5.3, 2.3],\n",
       "       [6.5, 3. , 5.5, 1.8],\n",
       "       [7.7, 3.8, 6.7, 2.2],\n",
       "       [7.7, 2.6, 6.9, 2.3],\n",
       "       [6. , 2.2, 5. , 1.5],\n",
       "       [6.9, 3.2, 5.7, 2.3],\n",
       "       [5.6, 2.8, 4.9, 2. ],\n",
       "       [7.7, 2.8, 6.7, 2. ],\n",
       "       [6.3, 2.7, 4.9, 1.8],\n",
       "       [6.7, 3.3, 5.7, 2.1],\n",
       "       [7.2, 3.2, 6. , 1.8],\n",
       "       [6.2, 2.8, 4.8, 1.8],\n",
       "       [6.1, 3. , 4.9, 1.8],\n",
       "       [6.4, 2.8, 5.6, 2.1],\n",
       "       [7.2, 3. , 5.8, 1.6],\n",
       "       [7.4, 2.8, 6.1, 1.9],\n",
       "       [7.9, 3.8, 6.4, 2. ],\n",
       "       [6.4, 2.8, 5.6, 2.2],\n",
       "       [6.3, 2.8, 5.1, 1.5],\n",
       "       [6.1, 2.6, 5.6, 1.4],\n",
       "       [7.7, 3. , 6.1, 2.3],\n",
       "       [6.3, 3.4, 5.6, 2.4],\n",
       "       [6.4, 3.1, 5.5, 1.8],\n",
       "       [6. , 3. , 4.8, 1.8],\n",
       "       [6.9, 3.1, 5.4, 2.1],\n",
       "       [6.7, 3.1, 5.6, 2.4],\n",
       "       [6.9, 3.1, 5.1, 2.3],\n",
       "       [5.8, 2.7, 5.1, 1.9],\n",
       "       [6.8, 3.2, 5.9, 2.3],\n",
       "       [6.7, 3.3, 5.7, 2.5],\n",
       "       [6.7, 3. , 5.2, 2.3],\n",
       "       [6.3, 2.5, 5. , 1.9],\n",
       "       [6.5, 3. , 5.2, 2. ],\n",
       "       [6.2, 3.4, 5.4, 2.3],\n",
       "       [5.9, 3. , 5.1, 1.8]])"
      ]
     },
     "execution_count": 4,
     "metadata": {},
     "output_type": "execute_result"
    }
   ],
   "source": [
    "x"
   ]
  },
  {
   "cell_type": "markdown",
   "metadata": {},
   "source": [
    "Đọc nhãn các loại hoa"
   ]
  },
  {
   "cell_type": "code",
   "execution_count": 5,
   "metadata": {},
   "outputs": [],
   "source": [
    "y = np.genfromtxt(data_path, delimiter=\",\", usecols=4, dtype=str)"
   ]
  },
  {
   "cell_type": "code",
   "execution_count": 6,
   "metadata": {},
   "outputs": [
    {
     "data": {
      "text/plain": [
       "['Iris-setosa',\n",
       " 'Iris-setosa',\n",
       " 'Iris-setosa',\n",
       " 'Iris-setosa',\n",
       " 'Iris-setosa',\n",
       " 'Iris-setosa',\n",
       " 'Iris-setosa',\n",
       " 'Iris-setosa',\n",
       " 'Iris-setosa',\n",
       " 'Iris-setosa',\n",
       " 'Iris-setosa',\n",
       " 'Iris-setosa',\n",
       " 'Iris-setosa',\n",
       " 'Iris-setosa',\n",
       " 'Iris-setosa',\n",
       " 'Iris-setosa',\n",
       " 'Iris-setosa',\n",
       " 'Iris-setosa',\n",
       " 'Iris-setosa',\n",
       " 'Iris-setosa',\n",
       " 'Iris-setosa',\n",
       " 'Iris-setosa',\n",
       " 'Iris-setosa',\n",
       " 'Iris-setosa',\n",
       " 'Iris-setosa',\n",
       " 'Iris-setosa',\n",
       " 'Iris-setosa',\n",
       " 'Iris-setosa',\n",
       " 'Iris-setosa',\n",
       " 'Iris-setosa',\n",
       " 'Iris-setosa',\n",
       " 'Iris-setosa',\n",
       " 'Iris-setosa',\n",
       " 'Iris-setosa',\n",
       " 'Iris-setosa',\n",
       " 'Iris-setosa',\n",
       " 'Iris-setosa',\n",
       " 'Iris-setosa',\n",
       " 'Iris-setosa',\n",
       " 'Iris-setosa',\n",
       " 'Iris-setosa',\n",
       " 'Iris-setosa',\n",
       " 'Iris-setosa',\n",
       " 'Iris-setosa',\n",
       " 'Iris-setosa',\n",
       " 'Iris-setosa',\n",
       " 'Iris-setosa',\n",
       " 'Iris-setosa',\n",
       " 'Iris-setosa',\n",
       " 'Iris-setosa',\n",
       " 'Iris-versicolor',\n",
       " 'Iris-versicolor',\n",
       " 'Iris-versicolor',\n",
       " 'Iris-versicolor',\n",
       " 'Iris-versicolor',\n",
       " 'Iris-versicolor',\n",
       " 'Iris-versicolor',\n",
       " 'Iris-versicolor',\n",
       " 'Iris-versicolor',\n",
       " 'Iris-versicolor',\n",
       " 'Iris-versicolor',\n",
       " 'Iris-versicolor',\n",
       " 'Iris-versicolor',\n",
       " 'Iris-versicolor',\n",
       " 'Iris-versicolor',\n",
       " 'Iris-versicolor',\n",
       " 'Iris-versicolor',\n",
       " 'Iris-versicolor',\n",
       " 'Iris-versicolor',\n",
       " 'Iris-versicolor',\n",
       " 'Iris-versicolor',\n",
       " 'Iris-versicolor',\n",
       " 'Iris-versicolor',\n",
       " 'Iris-versicolor',\n",
       " 'Iris-versicolor',\n",
       " 'Iris-versicolor',\n",
       " 'Iris-versicolor',\n",
       " 'Iris-versicolor',\n",
       " 'Iris-versicolor',\n",
       " 'Iris-versicolor',\n",
       " 'Iris-versicolor',\n",
       " 'Iris-versicolor',\n",
       " 'Iris-versicolor',\n",
       " 'Iris-versicolor',\n",
       " 'Iris-versicolor',\n",
       " 'Iris-versicolor',\n",
       " 'Iris-versicolor',\n",
       " 'Iris-versicolor',\n",
       " 'Iris-versicolor',\n",
       " 'Iris-versicolor',\n",
       " 'Iris-versicolor',\n",
       " 'Iris-versicolor',\n",
       " 'Iris-versicolor',\n",
       " 'Iris-versicolor',\n",
       " 'Iris-versicolor',\n",
       " 'Iris-versicolor',\n",
       " 'Iris-versicolor',\n",
       " 'Iris-versicolor',\n",
       " 'Iris-versicolor',\n",
       " 'Iris-versicolor',\n",
       " 'Iris-virginica',\n",
       " 'Iris-virginica',\n",
       " 'Iris-virginica',\n",
       " 'Iris-virginica',\n",
       " 'Iris-virginica',\n",
       " 'Iris-virginica',\n",
       " 'Iris-virginica',\n",
       " 'Iris-virginica',\n",
       " 'Iris-virginica',\n",
       " 'Iris-virginica',\n",
       " 'Iris-virginica',\n",
       " 'Iris-virginica',\n",
       " 'Iris-virginica',\n",
       " 'Iris-virginica',\n",
       " 'Iris-virginica',\n",
       " 'Iris-virginica',\n",
       " 'Iris-virginica',\n",
       " 'Iris-virginica',\n",
       " 'Iris-virginica',\n",
       " 'Iris-virginica',\n",
       " 'Iris-virginica',\n",
       " 'Iris-virginica',\n",
       " 'Iris-virginica',\n",
       " 'Iris-virginica',\n",
       " 'Iris-virginica',\n",
       " 'Iris-virginica',\n",
       " 'Iris-virginica',\n",
       " 'Iris-virginica',\n",
       " 'Iris-virginica',\n",
       " 'Iris-virginica',\n",
       " 'Iris-virginica',\n",
       " 'Iris-virginica',\n",
       " 'Iris-virginica',\n",
       " 'Iris-virginica',\n",
       " 'Iris-virginica',\n",
       " 'Iris-virginica',\n",
       " 'Iris-virginica',\n",
       " 'Iris-virginica',\n",
       " 'Iris-virginica',\n",
       " 'Iris-virginica',\n",
       " 'Iris-virginica',\n",
       " 'Iris-virginica',\n",
       " 'Iris-virginica',\n",
       " 'Iris-virginica',\n",
       " 'Iris-virginica',\n",
       " 'Iris-virginica',\n",
       " 'Iris-virginica',\n",
       " 'Iris-virginica',\n",
       " 'Iris-virginica',\n",
       " 'Iris-virginica']"
      ]
     },
     "execution_count": 6,
     "metadata": {},
     "output_type": "execute_result"
    }
   ],
   "source": [
    "y.tolist()"
   ]
  },
  {
   "cell_type": "markdown",
   "metadata": {},
   "source": [
    "Tên các đặc trưng tương ứng"
   ]
  },
  {
   "cell_type": "code",
   "execution_count": 7,
   "metadata": {},
   "outputs": [],
   "source": [
    "names = [\"setal_length\", \"setal_width\", \"petal_length\", \"petal_width\"]"
   ]
  },
  {
   "cell_type": "markdown",
   "metadata": {},
   "source": [
    "Đặt màu tương ứng với các loại hoa"
   ]
  },
  {
   "cell_type": "code",
   "execution_count": 8,
   "metadata": {},
   "outputs": [],
   "source": [
    "color_dict = {'Iris-setosa': \"red\", 'Iris-versicolor': \"green\", 'Iris-virginica': \"blue\"}"
   ]
  },
  {
   "cell_type": "markdown",
   "metadata": {},
   "source": [
    "Vẽ biểu đồ scatter plot với từng cặp đặc trưng"
   ]
  },
  {
   "cell_type": "code",
   "execution_count": 9,
   "metadata": {},
   "outputs": [
    {
     "data": {
      "image/png": "[encoded data removed]",
      "text/plain": [
       "<Figure size 1080x720 with 6 Axes>"
      ]
     },
     "metadata": {},
     "output_type": "display_data"
    }
   ],
   "source": [
    "fig = plt.figure(figsize=(15, 10), facecolor='w')\n",
    "fig.subplots_adjust(left=None, bottom=None, right=None, top=None, wspace=0.2, hspace=0.2)\n",
    "nums = len(list(combinations(range(x.shape[1]), r=2)))\n",
    "cols = 3\n",
    "rows = math.ceil(nums/cols)\n",
    "i = 0\n",
    "\n",
    "for couple in combinations(range(x.shape[1]), r=2):\n",
    "    ax = fig.add_subplot(rows, cols, i + 1)\n",
    "    ax.set_title(\"{} - {}\".format(names[couple[0]], names[couple[1]]))\n",
    "    x_ax = x[:, couple[0]]\n",
    "    y_ax = x[:, couple[1]]\n",
    "    for g in np.unique(y):\n",
    "        ix = np.where(y == g)\n",
    "        ax.scatter(x_ax[ix], y_ax[ix], label=g, s=50)\n",
    "\n",
    "    ax.set_xlabel(names[couple[0]])\n",
    "    ax.set_ylabel(names[couple[1]])\n",
    "    ax.set_aspect(abs((x_ax.max() - x_ax.min())/(y_ax.max() - y_ax.min()))*1.0)\n",
    "    ax.grid()\n",
    "    ax.legend()\n",
    "    i += 1"
   ]
  },
  {
   "cell_type": "markdown",
   "metadata": {},
   "source": [
    "Tính $\\bold{\\mu}=\\dfrac{1}{n}\\sum_{i=1}^{n} \\bold{x}_i$"
   ]
  },
  {
   "cell_type": "code",
   "execution_count": 10,
   "metadata": {},
   "outputs": [
    {
     "data": {
      "text/plain": [
       "array([[5.84333333, 3.054     , 3.75866667, 1.19866667]])"
      ]
     },
     "execution_count": 10,
     "metadata": {},
     "output_type": "execute_result"
    }
   ],
   "source": [
    "mu = np.mean(x, axis=0, keepdims=True)\n",
    "\n",
    "mu"
   ]
  },
  {
   "cell_type": "markdown",
   "metadata": {},
   "source": [
    "Tính $\\bold{Z}=\\bold{D} - 1.\\bold{\\mu}^T$"
   ]
  },
  {
   "cell_type": "code",
   "execution_count": 11,
   "metadata": {},
   "outputs": [
    {
     "data": {
      "text/plain": [
       "array([[-7.43333333e-01,  4.46000000e-01, -2.35866667e+00,\n",
       "        -9.98666667e-01],\n",
       "       [-9.43333333e-01, -5.40000000e-02, -2.35866667e+00,\n",
       "        -9.98666667e-01],\n",
       "       [-1.14333333e+00,  1.46000000e-01, -2.45866667e+00,\n",
       "        -9.98666667e-01],\n",
       "       [-1.24333333e+00,  4.60000000e-02, -2.25866667e+00,\n",
       "        -9.98666667e-01],\n",
       "       [-8.43333333e-01,  5.46000000e-01, -2.35866667e+00,\n",
       "        -9.98666667e-01],\n",
       "       [-4.43333333e-01,  8.46000000e-01, -2.05866667e+00,\n",
       "        -7.98666667e-01],\n",
       "       [-1.24333333e+00,  3.46000000e-01, -2.35866667e+00,\n",
       "        -8.98666667e-01],\n",
       "       [-8.43333333e-01,  3.46000000e-01, -2.25866667e+00,\n",
       "        -9.98666667e-01],\n",
       "       [-1.44333333e+00, -1.54000000e-01, -2.35866667e+00,\n",
       "        -9.98666667e-01],\n",
       "       [-9.43333333e-01,  4.60000000e-02, -2.25866667e+00,\n",
       "        -1.09866667e+00],\n",
       "       [-4.43333333e-01,  6.46000000e-01, -2.25866667e+00,\n",
       "        -9.98666667e-01],\n",
       "       [-1.04333333e+00,  3.46000000e-01, -2.15866667e+00,\n",
       "        -9.98666667e-01],\n",
       "       [-1.04333333e+00, -5.40000000e-02, -2.35866667e+00,\n",
       "        -1.09866667e+00],\n",
       "       [-1.54333333e+00, -5.40000000e-02, -2.65866667e+00,\n",
       "        -1.09866667e+00],\n",
       "       [-4.33333333e-02,  9.46000000e-01, -2.55866667e+00,\n",
       "        -9.98666667e-01],\n",
       "       [-1.43333333e-01,  1.34600000e+00, -2.25866667e+00,\n",
       "        -7.98666667e-01],\n",
       "       [-4.43333333e-01,  8.46000000e-01, -2.45866667e+00,\n",
       "        -7.98666667e-01],\n",
       "       [-7.43333333e-01,  4.46000000e-01, -2.35866667e+00,\n",
       "        -8.98666667e-01],\n",
       "       [-1.43333333e-01,  7.46000000e-01, -2.05866667e+00,\n",
       "        -8.98666667e-01],\n",
       "       [-7.43333333e-01,  7.46000000e-01, -2.25866667e+00,\n",
       "        -8.98666667e-01],\n",
       "       [-4.43333333e-01,  3.46000000e-01, -2.05866667e+00,\n",
       "        -9.98666667e-01],\n",
       "       [-7.43333333e-01,  6.46000000e-01, -2.25866667e+00,\n",
       "        -7.98666667e-01],\n",
       "       [-1.24333333e+00,  5.46000000e-01, -2.75866667e+00,\n",
       "        -9.98666667e-01],\n",
       "       [-7.43333333e-01,  2.46000000e-01, -2.05866667e+00,\n",
       "        -6.98666667e-01],\n",
       "       [-1.04333333e+00,  3.46000000e-01, -1.85866667e+00,\n",
       "        -9.98666667e-01],\n",
       "       [-8.43333333e-01, -5.40000000e-02, -2.15866667e+00,\n",
       "        -9.98666667e-01],\n",
       "       [-8.43333333e-01,  3.46000000e-01, -2.15866667e+00,\n",
       "        -7.98666667e-01],\n",
       "       [-6.43333333e-01,  4.46000000e-01, -2.25866667e+00,\n",
       "        -9.98666667e-01],\n",
       "       [-6.43333333e-01,  3.46000000e-01, -2.35866667e+00,\n",
       "        -9.98666667e-01],\n",
       "       [-1.14333333e+00,  1.46000000e-01, -2.15866667e+00,\n",
       "        -9.98666667e-01],\n",
       "       [-1.04333333e+00,  4.60000000e-02, -2.15866667e+00,\n",
       "        -9.98666667e-01],\n",
       "       [-4.43333333e-01,  3.46000000e-01, -2.25866667e+00,\n",
       "        -7.98666667e-01],\n",
       "       [-6.43333333e-01,  1.04600000e+00, -2.25866667e+00,\n",
       "        -1.09866667e+00],\n",
       "       [-3.43333333e-01,  1.14600000e+00, -2.35866667e+00,\n",
       "        -9.98666667e-01],\n",
       "       [-9.43333333e-01,  4.60000000e-02, -2.25866667e+00,\n",
       "        -1.09866667e+00],\n",
       "       [-8.43333333e-01,  1.46000000e-01, -2.55866667e+00,\n",
       "        -9.98666667e-01],\n",
       "       [-3.43333333e-01,  4.46000000e-01, -2.45866667e+00,\n",
       "        -9.98666667e-01],\n",
       "       [-9.43333333e-01,  4.60000000e-02, -2.25866667e+00,\n",
       "        -1.09866667e+00],\n",
       "       [-1.44333333e+00, -5.40000000e-02, -2.45866667e+00,\n",
       "        -9.98666667e-01],\n",
       "       [-7.43333333e-01,  3.46000000e-01, -2.25866667e+00,\n",
       "        -9.98666667e-01],\n",
       "       [-8.43333333e-01,  4.46000000e-01, -2.45866667e+00,\n",
       "        -8.98666667e-01],\n",
       "       [-1.34333333e+00, -7.54000000e-01, -2.45866667e+00,\n",
       "        -8.98666667e-01],\n",
       "       [-1.44333333e+00,  1.46000000e-01, -2.45866667e+00,\n",
       "        -9.98666667e-01],\n",
       "       [-8.43333333e-01,  4.46000000e-01, -2.15866667e+00,\n",
       "        -5.98666667e-01],\n",
       "       [-7.43333333e-01,  7.46000000e-01, -1.85866667e+00,\n",
       "        -7.98666667e-01],\n",
       "       [-1.04333333e+00, -5.40000000e-02, -2.35866667e+00,\n",
       "        -8.98666667e-01],\n",
       "       [-7.43333333e-01,  7.46000000e-01, -2.15866667e+00,\n",
       "        -9.98666667e-01],\n",
       "       [-1.24333333e+00,  1.46000000e-01, -2.35866667e+00,\n",
       "        -9.98666667e-01],\n",
       "       [-5.43333333e-01,  6.46000000e-01, -2.25866667e+00,\n",
       "        -9.98666667e-01],\n",
       "       [-8.43333333e-01,  2.46000000e-01, -2.35866667e+00,\n",
       "        -9.98666667e-01],\n",
       "       [ 1.15666667e+00,  1.46000000e-01,  9.41333333e-01,\n",
       "         2.01333333e-01],\n",
       "       [ 5.56666667e-01,  1.46000000e-01,  7.41333333e-01,\n",
       "         3.01333333e-01],\n",
       "       [ 1.05666667e+00,  4.60000000e-02,  1.14133333e+00,\n",
       "         3.01333333e-01],\n",
       "       [-3.43333333e-01, -7.54000000e-01,  2.41333333e-01,\n",
       "         1.01333333e-01],\n",
       "       [ 6.56666667e-01, -2.54000000e-01,  8.41333333e-01,\n",
       "         3.01333333e-01],\n",
       "       [-1.43333333e-01, -2.54000000e-01,  7.41333333e-01,\n",
       "         1.01333333e-01],\n",
       "       [ 4.56666667e-01,  2.46000000e-01,  9.41333333e-01,\n",
       "         4.01333333e-01],\n",
       "       [-9.43333333e-01, -6.54000000e-01, -4.58666667e-01,\n",
       "        -1.98666667e-01],\n",
       "       [ 7.56666667e-01, -1.54000000e-01,  8.41333333e-01,\n",
       "         1.01333333e-01],\n",
       "       [-6.43333333e-01, -3.54000000e-01,  1.41333333e-01,\n",
       "         2.01333333e-01],\n",
       "       [-8.43333333e-01, -1.05400000e+00, -2.58666667e-01,\n",
       "        -1.98666667e-01],\n",
       "       [ 5.66666667e-02, -5.40000000e-02,  4.41333333e-01,\n",
       "         3.01333333e-01],\n",
       "       [ 1.56666667e-01, -8.54000000e-01,  2.41333333e-01,\n",
       "        -1.98666667e-01],\n",
       "       [ 2.56666667e-01, -1.54000000e-01,  9.41333333e-01,\n",
       "         2.01333333e-01],\n",
       "       [-2.43333333e-01, -1.54000000e-01, -1.58666667e-01,\n",
       "         1.01333333e-01],\n",
       "       [ 8.56666667e-01,  4.60000000e-02,  6.41333333e-01,\n",
       "         2.01333333e-01],\n",
       "       [-2.43333333e-01, -5.40000000e-02,  7.41333333e-01,\n",
       "         3.01333333e-01],\n",
       "       [-4.33333333e-02, -3.54000000e-01,  3.41333333e-01,\n",
       "        -1.98666667e-01],\n",
       "       [ 3.56666667e-01, -8.54000000e-01,  7.41333333e-01,\n",
       "         3.01333333e-01],\n",
       "       [-2.43333333e-01, -5.54000000e-01,  1.41333333e-01,\n",
       "        -9.86666667e-02],\n",
       "       [ 5.66666667e-02,  1.46000000e-01,  1.04133333e+00,\n",
       "         6.01333333e-01],\n",
       "       [ 2.56666667e-01, -2.54000000e-01,  2.41333333e-01,\n",
       "         1.01333333e-01],\n",
       "       [ 4.56666667e-01, -5.54000000e-01,  1.14133333e+00,\n",
       "         3.01333333e-01],\n",
       "       [ 2.56666667e-01, -2.54000000e-01,  9.41333333e-01,\n",
       "         1.33333333e-03],\n",
       "       [ 5.56666667e-01, -1.54000000e-01,  5.41333333e-01,\n",
       "         1.01333333e-01],\n",
       "       [ 7.56666667e-01, -5.40000000e-02,  6.41333333e-01,\n",
       "         2.01333333e-01],\n",
       "       [ 9.56666667e-01, -2.54000000e-01,  1.04133333e+00,\n",
       "         2.01333333e-01],\n",
       "       [ 8.56666667e-01, -5.40000000e-02,  1.24133333e+00,\n",
       "         5.01333333e-01],\n",
       "       [ 1.56666667e-01, -1.54000000e-01,  7.41333333e-01,\n",
       "         3.01333333e-01],\n",
       "       [-1.43333333e-01, -4.54000000e-01, -2.58666667e-01,\n",
       "        -1.98666667e-01],\n",
       "       [-3.43333333e-01, -6.54000000e-01,  4.13333333e-02,\n",
       "        -9.86666667e-02],\n",
       "       [-3.43333333e-01, -6.54000000e-01, -5.86666667e-02,\n",
       "        -1.98666667e-01],\n",
       "       [-4.33333333e-02, -3.54000000e-01,  1.41333333e-01,\n",
       "         1.33333333e-03],\n",
       "       [ 1.56666667e-01, -3.54000000e-01,  1.34133333e+00,\n",
       "         4.01333333e-01],\n",
       "       [-4.43333333e-01, -5.40000000e-02,  7.41333333e-01,\n",
       "         3.01333333e-01],\n",
       "       [ 1.56666667e-01,  3.46000000e-01,  7.41333333e-01,\n",
       "         4.01333333e-01],\n",
       "       [ 8.56666667e-01,  4.60000000e-02,  9.41333333e-01,\n",
       "         3.01333333e-01],\n",
       "       [ 4.56666667e-01, -7.54000000e-01,  6.41333333e-01,\n",
       "         1.01333333e-01],\n",
       "       [-2.43333333e-01, -5.40000000e-02,  3.41333333e-01,\n",
       "         1.01333333e-01],\n",
       "       [-3.43333333e-01, -5.54000000e-01,  2.41333333e-01,\n",
       "         1.01333333e-01],\n",
       "       [-3.43333333e-01, -4.54000000e-01,  6.41333333e-01,\n",
       "         1.33333333e-03],\n",
       "       [ 2.56666667e-01, -5.40000000e-02,  8.41333333e-01,\n",
       "         2.01333333e-01],\n",
       "       [-4.33333333e-02, -4.54000000e-01,  2.41333333e-01,\n",
       "         1.33333333e-03],\n",
       "       [-8.43333333e-01, -7.54000000e-01, -4.58666667e-01,\n",
       "        -1.98666667e-01],\n",
       "       [-2.43333333e-01, -3.54000000e-01,  4.41333333e-01,\n",
       "         1.01333333e-01],\n",
       "       [-1.43333333e-01, -5.40000000e-02,  4.41333333e-01,\n",
       "         1.33333333e-03],\n",
       "       [-1.43333333e-01, -1.54000000e-01,  4.41333333e-01,\n",
       "         1.01333333e-01],\n",
       "       [ 3.56666667e-01, -1.54000000e-01,  5.41333333e-01,\n",
       "         1.01333333e-01],\n",
       "       [-7.43333333e-01, -5.54000000e-01, -7.58666667e-01,\n",
       "        -9.86666667e-02],\n",
       "       [-1.43333333e-01, -2.54000000e-01,  3.41333333e-01,\n",
       "         1.01333333e-01],\n",
       "       [ 4.56666667e-01,  2.46000000e-01,  2.24133333e+00,\n",
       "         1.30133333e+00],\n",
       "       [-4.33333333e-02, -3.54000000e-01,  1.34133333e+00,\n",
       "         7.01333333e-01],\n",
       "       [ 1.25666667e+00, -5.40000000e-02,  2.14133333e+00,\n",
       "         9.01333333e-01],\n",
       "       [ 4.56666667e-01, -1.54000000e-01,  1.84133333e+00,\n",
       "         6.01333333e-01],\n",
       "       [ 6.56666667e-01, -5.40000000e-02,  2.04133333e+00,\n",
       "         1.00133333e+00],\n",
       "       [ 1.75666667e+00, -5.40000000e-02,  2.84133333e+00,\n",
       "         9.01333333e-01],\n",
       "       [-9.43333333e-01, -5.54000000e-01,  7.41333333e-01,\n",
       "         5.01333333e-01],\n",
       "       [ 1.45666667e+00, -1.54000000e-01,  2.54133333e+00,\n",
       "         6.01333333e-01],\n",
       "       [ 8.56666667e-01, -5.54000000e-01,  2.04133333e+00,\n",
       "         6.01333333e-01],\n",
       "       [ 1.35666667e+00,  5.46000000e-01,  2.34133333e+00,\n",
       "         1.30133333e+00],\n",
       "       [ 6.56666667e-01,  1.46000000e-01,  1.34133333e+00,\n",
       "         8.01333333e-01],\n",
       "       [ 5.56666667e-01, -3.54000000e-01,  1.54133333e+00,\n",
       "         7.01333333e-01],\n",
       "       [ 9.56666667e-01, -5.40000000e-02,  1.74133333e+00,\n",
       "         9.01333333e-01],\n",
       "       [-1.43333333e-01, -5.54000000e-01,  1.24133333e+00,\n",
       "         8.01333333e-01],\n",
       "       [-4.33333333e-02, -2.54000000e-01,  1.34133333e+00,\n",
       "         1.20133333e+00],\n",
       "       [ 5.56666667e-01,  1.46000000e-01,  1.54133333e+00,\n",
       "         1.10133333e+00],\n",
       "       [ 6.56666667e-01, -5.40000000e-02,  1.74133333e+00,\n",
       "         6.01333333e-01],\n",
       "       [ 1.85666667e+00,  7.46000000e-01,  2.94133333e+00,\n",
       "         1.00133333e+00],\n",
       "       [ 1.85666667e+00, -4.54000000e-01,  3.14133333e+00,\n",
       "         1.10133333e+00],\n",
       "       [ 1.56666667e-01, -8.54000000e-01,  1.24133333e+00,\n",
       "         3.01333333e-01],\n",
       "       [ 1.05666667e+00,  1.46000000e-01,  1.94133333e+00,\n",
       "         1.10133333e+00],\n",
       "       [-2.43333333e-01, -2.54000000e-01,  1.14133333e+00,\n",
       "         8.01333333e-01],\n",
       "       [ 1.85666667e+00, -2.54000000e-01,  2.94133333e+00,\n",
       "         8.01333333e-01],\n",
       "       [ 4.56666667e-01, -3.54000000e-01,  1.14133333e+00,\n",
       "         6.01333333e-01],\n",
       "       [ 8.56666667e-01,  2.46000000e-01,  1.94133333e+00,\n",
       "         9.01333333e-01],\n",
       "       [ 1.35666667e+00,  1.46000000e-01,  2.24133333e+00,\n",
       "         6.01333333e-01],\n",
       "       [ 3.56666667e-01, -2.54000000e-01,  1.04133333e+00,\n",
       "         6.01333333e-01],\n",
       "       [ 2.56666667e-01, -5.40000000e-02,  1.14133333e+00,\n",
       "         6.01333333e-01],\n",
       "       [ 5.56666667e-01, -2.54000000e-01,  1.84133333e+00,\n",
       "         9.01333333e-01],\n",
       "       [ 1.35666667e+00, -5.40000000e-02,  2.04133333e+00,\n",
       "         4.01333333e-01],\n",
       "       [ 1.55666667e+00, -2.54000000e-01,  2.34133333e+00,\n",
       "         7.01333333e-01],\n",
       "       [ 2.05666667e+00,  7.46000000e-01,  2.64133333e+00,\n",
       "         8.01333333e-01],\n",
       "       [ 5.56666667e-01, -2.54000000e-01,  1.84133333e+00,\n",
       "         1.00133333e+00],\n",
       "       [ 4.56666667e-01, -2.54000000e-01,  1.34133333e+00,\n",
       "         3.01333333e-01],\n",
       "       [ 2.56666667e-01, -4.54000000e-01,  1.84133333e+00,\n",
       "         2.01333333e-01],\n",
       "       [ 1.85666667e+00, -5.40000000e-02,  2.34133333e+00,\n",
       "         1.10133333e+00],\n",
       "       [ 4.56666667e-01,  3.46000000e-01,  1.84133333e+00,\n",
       "         1.20133333e+00],\n",
       "       [ 5.56666667e-01,  4.60000000e-02,  1.74133333e+00,\n",
       "         6.01333333e-01],\n",
       "       [ 1.56666667e-01, -5.40000000e-02,  1.04133333e+00,\n",
       "         6.01333333e-01],\n",
       "       [ 1.05666667e+00,  4.60000000e-02,  1.64133333e+00,\n",
       "         9.01333333e-01],\n",
       "       [ 8.56666667e-01,  4.60000000e-02,  1.84133333e+00,\n",
       "         1.20133333e+00],\n",
       "       [ 1.05666667e+00,  4.60000000e-02,  1.34133333e+00,\n",
       "         1.10133333e+00],\n",
       "       [-4.33333333e-02, -3.54000000e-01,  1.34133333e+00,\n",
       "         7.01333333e-01],\n",
       "       [ 9.56666667e-01,  1.46000000e-01,  2.14133333e+00,\n",
       "         1.10133333e+00],\n",
       "       [ 8.56666667e-01,  2.46000000e-01,  1.94133333e+00,\n",
       "         1.30133333e+00],\n",
       "       [ 8.56666667e-01, -5.40000000e-02,  1.44133333e+00,\n",
       "         1.10133333e+00],\n",
       "       [ 4.56666667e-01, -5.54000000e-01,  1.24133333e+00,\n",
       "         7.01333333e-01],\n",
       "       [ 6.56666667e-01, -5.40000000e-02,  1.44133333e+00,\n",
       "         8.01333333e-01],\n",
       "       [ 3.56666667e-01,  3.46000000e-01,  1.64133333e+00,\n",
       "         1.10133333e+00],\n",
       "       [ 5.66666667e-02, -5.40000000e-02,  1.34133333e+00,\n",
       "         6.01333333e-01]])"
      ]
     },
     "execution_count": 11,
     "metadata": {},
     "output_type": "execute_result"
    }
   ],
   "source": [
    "x_mu = x - mu\n",
    "\n",
    "x_mu"
   ]
  },
  {
   "cell_type": "code",
   "execution_count": 12,
   "metadata": {},
   "outputs": [
    {
     "data": {
      "text/plain": [
       "array([[ 0.68112222, -0.03900667,  1.26519111,  0.51345778],\n",
       "       [-0.03900667,  0.18675067, -0.319568  , -0.11719467],\n",
       "       [ 1.26519111, -0.319568  ,  3.09242489,  1.28774489],\n",
       "       [ 0.51345778, -0.11719467,  1.28774489,  0.57853156]])"
      ]
     },
     "execution_count": 12,
     "metadata": {},
     "output_type": "execute_result"
    }
   ],
   "source": [
    "np.dot(x_mu.T, x_mu) / x.shape[0]"
   ]
  },
  {
   "cell_type": "code",
   "execution_count": 13,
   "metadata": {},
   "outputs": [
    {
     "data": {
      "text/plain": [
       "array([[ 0.68112222, -0.03900667,  1.26519111,  0.51345778],\n",
       "       [-0.03900667,  0.18675067, -0.319568  , -0.11719467],\n",
       "       [ 1.26519111, -0.319568  ,  3.09242489,  1.28774489],\n",
       "       [ 0.51345778, -0.11719467,  1.28774489,  0.57853156]])"
      ]
     },
     "execution_count": 13,
     "metadata": {},
     "output_type": "execute_result"
    }
   ],
   "source": [
    "np.matmul(x_mu.T, x_mu) / x.shape[0]"
   ]
  },
  {
   "cell_type": "markdown",
   "metadata": {},
   "source": [
    "Tính $\\Sigma = \\dfrac{1}{n}\\Big( \\bold{Z}^T \\bold{Z} \\Big)$"
   ]
  },
  {
   "cell_type": "code",
   "execution_count": 14,
   "metadata": {},
   "outputs": [],
   "source": [
    "cov_matrix = np.matmul(x_mu.T, x_mu) / x.shape[0]"
   ]
  },
  {
   "cell_type": "markdown",
   "metadata": {},
   "source": [
    "Tính $(\\lambda_1, \\lambda_2, \\dots, \\lambda_v)=\\mathrm{eigenvalues}(\\Sigma)$ và $\\bold{U}=\\begin{pmatrix} \\bold{u}_1, \\bold{u}_2, \\dots, \\bold{u}_d \\end{pmatrix}=\\mathrm{eigenvectors}(\\Sigma)$"
   ]
  },
  {
   "cell_type": "code",
   "execution_count": 15,
   "metadata": {},
   "outputs": [],
   "source": [
    "w, v = np.linalg.eig(cov_matrix)\n"
   ]
  },
  {
   "cell_type": "markdown",
   "metadata": {},
   "source": [
    "Sắp xếp lại các giá trị riêng theo chiều không tăng (thực ra không cần thiết vì numpy trả về các giá trị riêng đã được sắp xếp theo chiều không tăng)"
   ]
  },
  {
   "cell_type": "code",
   "execution_count": 16,
   "metadata": {},
   "outputs": [],
   "source": [
    "order = np.argsort(w)[::-1]"
   ]
  },
  {
   "cell_type": "code",
   "execution_count": 17,
   "metadata": {},
   "outputs": [],
   "source": [
    "w = w[order]"
   ]
  },
  {
   "cell_type": "code",
   "execution_count": 18,
   "metadata": {},
   "outputs": [
    {
     "data": {
      "text/plain": [
       "array([4.19667516, 0.24062861, 0.07800042, 0.02352514])"
      ]
     },
     "execution_count": 18,
     "metadata": {},
     "output_type": "execute_result"
    }
   ],
   "source": [
    "w"
   ]
  },
  {
   "cell_type": "code",
   "execution_count": 19,
   "metadata": {},
   "outputs": [],
   "source": [
    "v = v[:, order]"
   ]
  },
  {
   "cell_type": "code",
   "execution_count": 20,
   "metadata": {},
   "outputs": [
    {
     "data": {
      "text/plain": [
       "array([[ 0.36158968, -0.65653988, -0.58099728,  0.31725455],\n",
       "       [-0.08226889, -0.72971237,  0.59641809, -0.32409435],\n",
       "       [ 0.85657211,  0.1757674 ,  0.07252408, -0.47971899],\n",
       "       [ 0.35884393,  0.07470647,  0.54906091,  0.75112056]])"
      ]
     },
     "execution_count": 20,
     "metadata": {},
     "output_type": "execute_result"
    }
   ],
   "source": [
    "v"
   ]
  },
  {
   "cell_type": "markdown",
   "metadata": {},
   "source": [
    "Tính $f(r)=\\dfrac{\\sum_{i=1}^r \\lambda_i}{\\sum_{i=1}^d \\lambda_i}, i=1,\\dots, d$"
   ]
  },
  {
   "cell_type": "code",
   "execution_count": 21,
   "metadata": {},
   "outputs": [
    {
     "data": {
      "text/plain": [
       "array([0.92461621, 0.97763178, 0.99481691, 1.        ])"
      ]
     },
     "execution_count": 21,
     "metadata": {},
     "output_type": "execute_result"
    }
   ],
   "source": [
    "rate = np.cumsum(w) / np.sum(w)\n",
    "\n",
    "rate"
   ]
  },
  {
   "cell_type": "markdown",
   "metadata": {},
   "source": [
    "Đặt $\\alpha = 0.95$"
   ]
  },
  {
   "cell_type": "code",
   "execution_count": 22,
   "metadata": {},
   "outputs": [],
   "source": [
    "alpha = 0.95"
   ]
  },
  {
   "cell_type": "markdown",
   "metadata": {},
   "source": [
    "Chọn $r$ nhỏ nhất sao cho $f(r) \\geq \\alpha$"
   ]
  },
  {
   "cell_type": "code",
   "execution_count": 23,
   "metadata": {},
   "outputs": [],
   "source": [
    "r = np.where(rate >= alpha)"
   ]
  },
  {
   "cell_type": "code",
   "execution_count": 24,
   "metadata": {},
   "outputs": [
    {
     "data": {
      "text/plain": [
       "2"
      ]
     },
     "execution_count": 24,
     "metadata": {},
     "output_type": "execute_result"
    }
   ],
   "source": [
    "r[0][0] + 1"
   ]
  },
  {
   "cell_type": "markdown",
   "metadata": {},
   "source": [
    "Tính cơ sở $\\bold{U}_r=\\begin{pmatrix} \\bold{u}_1, \\bold{u}_2, \\dots, \\bold{u}_r \\end{pmatrix}$"
   ]
  },
  {
   "cell_type": "code",
   "execution_count": 25,
   "metadata": {},
   "outputs": [
    {
     "data": {
      "text/plain": [
       "array([[ 0.36158968, -0.65653988],\n",
       "       [-0.08226889, -0.72971237],\n",
       "       [ 0.85657211,  0.1757674 ],\n",
       "       [ 0.35884393,  0.07470647]])"
      ]
     },
     "execution_count": 25,
     "metadata": {},
     "output_type": "execute_result"
    }
   ],
   "source": [
    "U = v[:, :(r[0][0] + 1)]\n",
    "\n",
    "U"
   ]
  },
  {
   "cell_type": "markdown",
   "metadata": {},
   "source": [
    "Tính dữ liệu đã được giảm chiều:\n",
    "\n",
    "$$\\bold{A}=\\lbrace \\bold{a}_i \\vert \\bold{a}_i = \\bold{U}_r^T \\bold{x}_i, i=1, \\dots, n \\rbrace$$"
   ]
  },
  {
   "cell_type": "code",
   "execution_count": 26,
   "metadata": {},
   "outputs": [],
   "source": [
    "reduced_x = np.matmul(x, U)"
   ]
  },
  {
   "cell_type": "code",
   "execution_count": 27,
   "metadata": {},
   "outputs": [
    {
     "data": {
      "text/plain": [
       "array([[ 2.82713597, -5.64133105],\n",
       "       [ 2.79595248, -5.14516688],\n",
       "       [ 2.62152356, -5.17737812],\n",
       "       [ 2.7649059 , -5.00359942],\n",
       "       [ 2.78275012, -5.64864829],\n",
       "       [ 3.23144574, -6.06250644],\n",
       "       [ 2.69045242, -5.23261922],\n",
       "       [ 2.8848611 , -5.48512908],\n",
       "       [ 2.62338453, -4.7439257 ],\n",
       "       [ 2.83749841, -5.20803203],\n",
       "       [ 3.00481631, -5.96665874],\n",
       "       [ 2.89820038, -5.33624436],\n",
       "       [ 2.72390912, -5.08698354],\n",
       "       [ 2.28614265, -4.81144382],\n",
       "       [ 2.86779988, -6.50091863],\n",
       "       [ 3.12747377, -6.65947808],\n",
       "       [ 2.88881689, -6.13281341],\n",
       "       [ 2.86302037, -5.6338604 ],\n",
       "       [ 3.31226514, -6.19396782],\n",
       "       [ 2.92399691, -5.83519737],\n",
       "       [ 3.2008114 , -5.71259155],\n",
       "       [ 2.96810819, -5.75475549],\n",
       "       [ 2.2954854 , -5.4563393 ],\n",
       "       [ 3.20821456, -5.42024641],\n",
       "       [ 3.15517201, -5.28351414],\n",
       "       [ 3.00342587, -5.17566739],\n",
       "       [ 3.0422871 , -5.45261105],\n",
       "       [ 2.94895215, -5.68940829],\n",
       "       [ 2.87152183, -5.6340138 ],\n",
       "       [ 2.87849519, -5.1246479 ],\n",
       "       [ 2.92288105, -5.11733065],\n",
       "       [ 3.10126576, -5.73280374],\n",
       "       [ 2.86370642, -6.13470636],\n",
       "       [ 2.91418362, -6.41474566],\n",
       "       [ 2.83749841, -5.20803203],\n",
       "       [ 2.64434325, -5.39191683],\n",
       "       [ 2.88611463, -5.92152374],\n",
       "       [ 2.83749841, -5.20803203],\n",
       "       [ 2.52950043, -4.83447368],\n",
       "       [ 2.92102007, -5.55078307],\n",
       "       [ 2.74120419, -5.58578315],\n",
       "       [ 2.65913202, -4.38185836],\n",
       "       [ 2.51304665, -4.98041616],\n",
       "       [ 3.105829  , -5.51064099],\n",
       "       [ 3.30251014, -5.75741976],\n",
       "       [ 2.79567791, -5.07204225],\n",
       "       [ 2.97376973, -5.82509128],\n",
       "       [ 2.6710218 , -5.09414739],\n",
       "       [ 2.96865734, -5.90100476],\n",
       "       [ 2.80743078, -5.42973458],\n",
       "       [ 6.79613769, -6.00016292],\n",
       "       [ 6.44375385, -5.63392182],\n",
       "       [ 6.97540442, -5.81891356],\n",
       "       [ 5.6923103 , -4.48911979],\n",
       "       [ 6.59847758, -5.39011412],\n",
       "       [ 6.15177985, -4.89740025],\n",
       "       [ 6.60656681, -5.59861494],\n",
       "       [ 4.75987596, -4.31361622],\n",
       "       [ 6.55464088, -5.54368064],\n",
       "       [ 5.50115303, -4.59414886],\n",
       "       [ 5.0002569 , -4.05223178],\n",
       "       [ 6.02244116, -5.21243963],\n",
       "       [ 5.77367885, -4.76683043],\n",
       "       [ 6.49538764, -5.19036331],\n",
       "       [ 5.3364791 , -5.06290816],\n",
       "       [ 6.43891604, -5.78295994],\n",
       "       [ 6.17093589, -4.96274744],\n",
       "       [ 5.74588368, -4.9828019 ],\n",
       "       [ 6.45370481, -4.77290147],\n",
       "       [ 5.5545895 , -4.73323428],\n",
       "       [ 6.62758382, -5.23050972],\n",
       "       [ 5.86812967, -5.2478999 ],\n",
       "       [ 6.80781195, -4.98716221],\n",
       "       [ 6.43184575, -5.13233337],\n",
       "       [ 6.22535131, -5.46510288],\n",
       "       [ 6.41098396, -5.64433471],\n",
       "       [ 6.84238452, -5.55939325],\n",
       "       [ 7.06873937, -5.58211632],\n",
       "       [ 6.32379865, -5.15239216],\n",
       "       [ 5.20400834, -4.94963712],\n",
       "       [ 5.44100021, -4.6121858 ],\n",
       "       [ 5.31945861, -4.63723319],\n",
       "       [ 5.64633805, -5.00301409],\n",
       "       [ 6.89008008, -4.89351859],\n",
       "       [ 6.09861795, -4.83143946],\n",
       "       [ 6.31854859, -5.50977769],\n",
       "       [ 6.73177206, -5.72275907],\n",
       "       [ 6.32421089, -4.94404473],\n",
       "       [ 5.75653826, -5.0479957 ],\n",
       "       [ 5.67585653, -4.63506226],\n",
       "       [ 5.97437409, -4.64519718],\n",
       "       [ 6.40150354, -5.28091129],\n",
       "       [ 5.74022215, -4.91246611],\n",
       "       [ 4.80426181, -4.30629897],\n",
       "       [ 5.86687614, -4.81150524],\n",
       "       [ 5.84247005, -5.10354359],\n",
       "       [ 5.88658133, -5.02310171],\n",
       "       [ 6.15303338, -5.33379491],\n",
       "       [ 4.60287976, -4.56315501],\n",
       "       [ 5.80915101, -4.96770721],\n",
       "       [ 8.04307008, -5.30288149],\n",
       "       [ 6.92541532, -4.73979867],\n",
       "       [ 8.12782771, -5.65665902],\n",
       "       [ 7.48215804, -5.13359804],\n",
       "       [ 7.86110108, -5.27284118],\n",
       "       [ 8.90822302, -5.86189178],\n",
       "       [ 6.03072634, -4.12337204],\n",
       "       [ 8.44334819, -5.66710074],\n",
       "       [ 7.83101589, -5.06917556],\n",
       "       [ 8.42947733, -6.09510436],\n",
       "       [ 7.17327804, -5.55676213],\n",
       "       [ 7.31368355, -5.09856912],\n",
       "       [ 7.67672196, -5.53000401],\n",
       "       [ 6.85593732, -4.53830831],\n",
       "       [ 7.0966104 , -4.77541668],\n",
       "       [ 7.41608668, -5.43354272],\n",
       "       [ 7.46059188, -5.35545399],\n",
       "       [ 9.00010848, -6.48626828],\n",
       "       [ 9.30602996, -5.5679893 ],\n",
       "       [ 6.80967292, -4.55370979],\n",
       "       [ 7.93951036, -5.6915057 ],\n",
       "       [ 6.70944047, -4.70914477],\n",
       "       [ 9.01060858, -5.7714972 ],\n",
       "       [ 6.89901135, -5.11069274],\n",
       "       [ 7.78719675, -5.64811026],\n",
       "       [ 8.12553693, -5.87309068],\n",
       "       [ 6.76896828, -5.13558673],\n",
       "       [ 6.80201275, -5.19829848],\n",
       "       [ 7.63419708, -5.10386885],\n",
       "       [ 7.8989075 , -5.77724298],\n",
       "       [ 8.35230402, -5.68746632],\n",
       "       [ 8.743686  , -6.68524777],\n",
       "       [ 7.67008147, -5.0963982 ],\n",
       "       [ 6.9544457 , -5.17092244],\n",
       "       [ 7.2909832 , -4.81325894],\n",
       "       [ 8.58786472, -6.00048817],\n",
       "       [ 7.65632995, -5.45363034],\n",
       "       [ 7.41620602, -5.36277124],\n",
       "       [ 6.68019657, -5.15022123],\n",
       "       [ 7.61899683, -5.68620598],\n",
       "       [ 7.82564649, -5.49733258],\n",
       "       [ 7.43379398, -5.72399491],\n",
       "       [ 6.92541532, -4.73979867],\n",
       "       [ 8.07466581, -5.59069823],\n",
       "       [ 7.93073432, -5.61822767],\n",
       "       [ 7.45536015, -5.50213895],\n",
       "       [ 7.03700673, -4.93970288],\n",
       "       [ 7.27538903, -5.39324292],\n",
       "       [ 7.41297217, -5.43060048],\n",
       "       [ 6.90100923, -5.03183702]])"
      ]
     },
     "execution_count": 27,
     "metadata": {},
     "output_type": "execute_result"
    }
   ],
   "source": [
    "reduced_x"
   ]
  },
  {
   "cell_type": "markdown",
   "metadata": {},
   "source": [
    "Biểu diễn dữ liệu sau khi đã được giảm chiều (vẽ scatterplot của đôi một các cặp trục được chọn sau phần tích thành phần chính)"
   ]
  },
  {
   "cell_type": "code",
   "execution_count": 28,
   "metadata": {},
   "outputs": [
    {
     "data": {
      "image/png": "[encoded data removed]",
      "text/plain": [
       "<Figure size 1440x1440 with 1 Axes>"
      ]
     },
     "metadata": {},
     "output_type": "display_data"
    }
   ],
   "source": [
    "'''fix, ax = plt.subplots()\n",
    "for g in np.unique(y):\n",
    "    ix = np.where(y == g)\n",
    "    ax.scatter(reduced_x[:, 0][ix], reduced_x[:, 1][ix], c=color_dict[g], label=g, s=100)\n",
    "\n",
    "ax.grid()\n",
    "ax.legend()\n",
    "plt.show()'''\n",
    "\n",
    "fig = plt.figure(figsize=(20, 20), facecolor='w')\n",
    "#fig.subplots_adjust(left=None, bottom=None, right=None, top=None, wspace=0.2, hspace=0.2)\n",
    "nums = len(list(combinations(range(reduced_x.shape[1]), r=2)))\n",
    "cols = 3\n",
    "rows = math.ceil(nums/cols)\n",
    "i = 0\n",
    "\n",
    "#fig, ax = plt.subplots(rows, cols)\n",
    "for couple in combinations(range(reduced_x.shape[1]), r=2):\n",
    "    ax = fig.add_subplot(rows, cols, i + 1)\n",
    "    ax.set_title(\"Axis {} - Axis {}\".format(couple[0], couple[1]))\n",
    "    x_ax = reduced_x[:, couple[0]]\n",
    "    y_ax = reduced_x[:, couple[1]]\n",
    "    for g in np.unique(y):\n",
    "        ix = np.where(y == g)\n",
    "        ax.scatter(x_ax[ix], y_ax[ix], label=g, s=50)\n",
    "\n",
    "    ax.set_xlabel(\"Axis {}\".format(couple[0]))\n",
    "    ax.set_ylabel(\"Axis {}\".format(couple[1]))\n",
    "    ax.set_aspect(abs((x_ax.max() - x_ax.min())/(y_ax.max() - y_ax.min()))*1.0)\n",
    "    ax.grid()\n",
    "    ax.legend()\n",
    "    i += 1"
   ]
  }
 ],
 "metadata": {
  "interpreter": {
   "hash": "0b37c5e71500f9f6bfb4eec4218dfb91dfde203ec7d23af01a08f303b1c015bd"
  },
  "kernelspec": {
   "display_name": "Python 3.6.8 ('pytorch_mmlab')",
   "language": "python",
   "name": "python3"
  },
  "language_info": {
   "codemirror_mode": {
    "name": "ipython",
    "version": 3
   },
   "file_extension": ".py",
   "mimetype": "text/x-python",
   "name": "python",
   "nbconvert_exporter": "python",
   "pygments_lexer": "ipython3",
   "version": "3.6.8"
  },
  "orig_nbformat": 4
 },
 "nbformat": 4,
 "nbformat_minor": 2
}
